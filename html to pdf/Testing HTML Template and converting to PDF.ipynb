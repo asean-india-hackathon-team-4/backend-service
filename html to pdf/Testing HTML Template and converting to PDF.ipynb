{
 "cells": [
  {
   "cell_type": "code",
   "execution_count": 4,
   "metadata": {},
   "outputs": [],
   "source": [
    "import pandas as pd\n",
    "from weasyprint import HTML\n",
    "from jinja2 import Environment, FileSystemLoader"
   ]
  },
  {
   "cell_type": "code",
   "execution_count": 46,
   "metadata": {},
   "outputs": [],
   "source": [
    "env = Environment(loader=FileSystemLoader('.'))\n",
    "template = env.get_template('template.html')"
   ]
  },
  {
   "cell_type": "code",
   "execution_count": 5,
   "metadata": {},
   "outputs": [],
   "source": [
    "df = pd.read_csv('Fishing-Effort-2016-12-31.csv')"
   ]
  },
  {
   "cell_type": "code",
   "execution_count": 49,
   "metadata": {},
   "outputs": [],
   "source": [
    "df = df[:50]"
   ]
  },
  {
   "cell_type": "code",
   "execution_count": 50,
   "metadata": {},
   "outputs": [],
   "source": [
    "template_vars = {\n",
    "    'title' : 'Testing PDF reports from HTML',\n",
    "    'table': df.to_html()\n",
    "}\n",
    "\n",
    "html_out = template.render(template_vars)\n",
    "\n",
    "with open('report.html', 'w') as file:\n",
    "    file.write(html_out)"
   ]
  },
  {
   "cell_type": "code",
   "execution_count": 51,
   "metadata": {},
   "outputs": [],
   "source": [
    "# Base URL needs to be specified so that all paths inside the HTML are relative to this\n",
    "base_url = '/home/adwait_bhope/Desktop/Files/Hackathons/ASEAN India Hackathon 2020/pdf reports/html to pdf'\n",
    "\n",
    "HTML(string=html_out, base_url=base_url).write_pdf('report.pdf', stylesheets=['style.css'])"
   ]
  },
  {
   "cell_type": "code",
   "execution_count": null,
   "metadata": {},
   "outputs": [],
   "source": []
  }
 ],
 "metadata": {
  "kernelspec": {
   "display_name": "Python 3",
   "language": "python",
   "name": "python3"
  },
  "language_info": {
   "codemirror_mode": {
    "name": "ipython",
    "version": 3
   },
   "file_extension": ".py",
   "mimetype": "text/x-python",
   "name": "python",
   "nbconvert_exporter": "python",
   "pygments_lexer": "ipython3",
   "version": "3.8.5"
  }
 },
 "nbformat": 4,
 "nbformat_minor": 4
}
