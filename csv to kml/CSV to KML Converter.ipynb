{
 "cells": [
  {
   "cell_type": "code",
   "execution_count": 1,
   "metadata": {},
   "outputs": [
    {
     "name": "stdout",
     "output_type": "stream",
     "text": [
      "Requirement already satisfied: simplekml in /home/adwait_bhope/.local/lib/python3.8/site-packages (1.3.5)\n",
      "Note: you may need to restart the kernel to use updated packages.\n"
     ]
    }
   ],
   "source": [
    "pip install simplekml"
   ]
  },
  {
   "cell_type": "code",
   "execution_count": 2,
   "metadata": {},
   "outputs": [],
   "source": [
    "import csv\n",
    "import simplekml\n",
    "import datetime\n",
    "import pandas as pd"
   ]
  },
  {
   "cell_type": "code",
   "execution_count": 7,
   "metadata": {},
   "outputs": [
    {
     "data": {
      "text/plain": [
       "161315"
      ]
     },
     "execution_count": 7,
     "metadata": {},
     "output_type": "execute_result"
    }
   ],
   "source": [
    "df = pd.read_csv('pole_and_line.csv')\n",
    "len(df)"
   ]
  },
  {
   "cell_type": "code",
   "execution_count": 8,
   "metadata": {},
   "outputs": [],
   "source": [
    "df = df.sample(frac=0.01)\n",
    "df.to_csv('pole_and_line_small.csv')"
   ]
  },
  {
   "cell_type": "code",
   "execution_count": 10,
   "metadata": {},
   "outputs": [
    {
     "data": {
      "text/plain": [
       "1613"
      ]
     },
     "execution_count": 10,
     "metadata": {},
     "output_type": "execute_result"
    }
   ],
   "source": [
    "len(df)"
   ]
  },
  {
   "cell_type": "code",
   "execution_count": 11,
   "metadata": {},
   "outputs": [
    {
     "data": {
      "text/html": [
       "<div>\n",
       "<style scoped>\n",
       "    .dataframe tbody tr th:only-of-type {\n",
       "        vertical-align: middle;\n",
       "    }\n",
       "\n",
       "    .dataframe tbody tr th {\n",
       "        vertical-align: top;\n",
       "    }\n",
       "\n",
       "    .dataframe thead th {\n",
       "        text-align: right;\n",
       "    }\n",
       "</style>\n",
       "<table border=\"1\" class=\"dataframe\">\n",
       "  <thead>\n",
       "    <tr style=\"text-align: right;\">\n",
       "      <th></th>\n",
       "      <th>mmsi</th>\n",
       "      <th>timestamp</th>\n",
       "      <th>distance_from_shore</th>\n",
       "      <th>distance_from_port</th>\n",
       "      <th>speed</th>\n",
       "      <th>course</th>\n",
       "      <th>lat</th>\n",
       "      <th>lon</th>\n",
       "      <th>is_fishing</th>\n",
       "      <th>source</th>\n",
       "    </tr>\n",
       "  </thead>\n",
       "  <tbody>\n",
       "    <tr>\n",
       "      <th>129256</th>\n",
       "      <td>8.703142e+13</td>\n",
       "      <td>1.470974e+09</td>\n",
       "      <td>0.000000</td>\n",
       "      <td>999.975464</td>\n",
       "      <td>0.0</td>\n",
       "      <td>32.799999</td>\n",
       "      <td>37.736897</td>\n",
       "      <td>-25.668943</td>\n",
       "      <td>-1.0</td>\n",
       "      <td>gfw</td>\n",
       "    </tr>\n",
       "    <tr>\n",
       "      <th>52094</th>\n",
       "      <td>1.848346e+13</td>\n",
       "      <td>1.459550e+09</td>\n",
       "      <td>15999.607422</td>\n",
       "      <td>36234.449219</td>\n",
       "      <td>9.4</td>\n",
       "      <td>229.000000</td>\n",
       "      <td>27.926254</td>\n",
       "      <td>-15.213070</td>\n",
       "      <td>-1.0</td>\n",
       "      <td>gfw</td>\n",
       "    </tr>\n",
       "    <tr>\n",
       "      <th>14693</th>\n",
       "      <td>1.848346e+13</td>\n",
       "      <td>1.360448e+09</td>\n",
       "      <td>0.000000</td>\n",
       "      <td>2236.013184</td>\n",
       "      <td>0.0</td>\n",
       "      <td>0.000000</td>\n",
       "      <td>28.965910</td>\n",
       "      <td>-13.539572</td>\n",
       "      <td>-1.0</td>\n",
       "      <td>gfw</td>\n",
       "    </tr>\n",
       "    <tr>\n",
       "      <th>142748</th>\n",
       "      <td>1.020291e+14</td>\n",
       "      <td>1.475668e+09</td>\n",
       "      <td>999.975464</td>\n",
       "      <td>28318.910156</td>\n",
       "      <td>0.0</td>\n",
       "      <td>349.700012</td>\n",
       "      <td>34.865772</td>\n",
       "      <td>138.327301</td>\n",
       "      <td>-1.0</td>\n",
       "      <td>gfw</td>\n",
       "    </tr>\n",
       "    <tr>\n",
       "      <th>3213</th>\n",
       "      <td>1.848346e+13</td>\n",
       "      <td>1.352265e+09</td>\n",
       "      <td>0.000000</td>\n",
       "      <td>2236.013184</td>\n",
       "      <td>0.0</td>\n",
       "      <td>165.500000</td>\n",
       "      <td>28.965940</td>\n",
       "      <td>-13.539536</td>\n",
       "      <td>-1.0</td>\n",
       "      <td>gfw</td>\n",
       "    </tr>\n",
       "  </tbody>\n",
       "</table>\n",
       "</div>"
      ],
      "text/plain": [
       "                mmsi     timestamp  distance_from_shore  distance_from_port  \\\n",
       "129256  8.703142e+13  1.470974e+09             0.000000          999.975464   \n",
       "52094   1.848346e+13  1.459550e+09         15999.607422        36234.449219   \n",
       "14693   1.848346e+13  1.360448e+09             0.000000         2236.013184   \n",
       "142748  1.020291e+14  1.475668e+09           999.975464        28318.910156   \n",
       "3213    1.848346e+13  1.352265e+09             0.000000         2236.013184   \n",
       "\n",
       "        speed      course        lat         lon  is_fishing source  \n",
       "129256    0.0   32.799999  37.736897  -25.668943        -1.0    gfw  \n",
       "52094     9.4  229.000000  27.926254  -15.213070        -1.0    gfw  \n",
       "14693     0.0    0.000000  28.965910  -13.539572        -1.0    gfw  \n",
       "142748    0.0  349.700012  34.865772  138.327301        -1.0    gfw  \n",
       "3213      0.0  165.500000  28.965940  -13.539536        -1.0    gfw  "
      ]
     },
     "execution_count": 11,
     "metadata": {},
     "output_type": "execute_result"
    }
   ],
   "source": [
    "df.head()"
   ]
  },
  {
   "cell_type": "code",
   "execution_count": 12,
   "metadata": {},
   "outputs": [],
   "source": [
    "inputfile = csv.reader(open('pole_and_line_small.csv','r'))\n",
    "next(inputfile)\n",
    "fmt = \"%Y-%m-%d %H:%M:%S\"\n",
    "kml=simplekml.Kml()\n",
    "single_point = kml.newpoint(name=\"The World\", coords=[(0.0,0.0)])\n",
    "\n",
    "for row in inputfile:\n",
    "    pnt = kml.newpoint()\n",
    "    pnt.name = row[0]\n",
    "    t_utc = datetime.datetime.utcfromtimestamp(float(row[1])/1000.)\n",
    "    pnt.description = \"Time: {0}\".format(t_utc.strftime(fmt))\n",
    "    pnt.coords = [(row[8], row[7])]\n",
    "\n",
    "kml.save('pole_and_line_small.kml')"
   ]
  },
  {
   "cell_type": "code",
   "execution_count": null,
   "metadata": {},
   "outputs": [],
   "source": []
  }
 ],
 "metadata": {
  "kernelspec": {
   "display_name": "Python 3",
   "language": "python",
   "name": "python3"
  },
  "language_info": {
   "codemirror_mode": {
    "name": "ipython",
    "version": 3
   },
   "file_extension": ".py",
   "mimetype": "text/x-python",
   "name": "python",
   "nbconvert_exporter": "python",
   "pygments_lexer": "ipython3",
   "version": "3.8.5"
  }
 },
 "nbformat": 4,
 "nbformat_minor": 4
}
