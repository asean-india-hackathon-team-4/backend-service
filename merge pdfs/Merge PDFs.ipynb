{
 "cells": [
  {
   "cell_type": "code",
   "execution_count": 10,
   "metadata": {},
   "outputs": [],
   "source": [
    "import os\n",
    "import glob\n",
    "import PyPDF2 "
   ]
  },
  {
   "cell_type": "code",
   "execution_count": 6,
   "metadata": {},
   "outputs": [
    {
     "name": "stdout",
     "output_type": "stream",
     "text": [
      "['/home/adwait_bhope/Desktop/Files/Hackathons/ASEAN India Hackathon 2020/code/server/pacific-halibut-raw.pdf', '/home/adwait_bhope/Desktop/Files/Hackathons/ASEAN India Hackathon 2020/code/server/red-grouper-raw.pdf', '/home/adwait_bhope/Desktop/Files/Hackathons/ASEAN India Hackathon 2020/code/server/white-marlin-raw.pdf', '/home/adwait_bhope/Desktop/Files/Hackathons/ASEAN India Hackathon 2020/code/server/yellowfin-tuna-raw.pdf']\n"
     ]
    }
   ],
   "source": [
    "files = sorted(glob.glob('/home/adwait_bhope/Desktop/Files/Hackathons/ASEAN India Hackathon 2020/code/server/*.pdf'))[1:]\n",
    "print(files)"
   ]
  },
  {
   "cell_type": "code",
   "execution_count": 12,
   "metadata": {},
   "outputs": [],
   "source": [
    "# Open the files that have to be merged one by one\n",
    "\n",
    "for filename in files:\n",
    "    pdf1File = open('header.pdf', 'rb')\n",
    "    pdf2File = open(filename, 'rb')\n",
    "\n",
    "    # Read the files that you have opened\n",
    "    pdf1Reader = PyPDF2.PdfFileReader(pdf1File)\n",
    "    pdf2Reader = PyPDF2.PdfFileReader(pdf2File)\n",
    "\n",
    "    # Create a new PdfFileWriter object which represents a blank PDF document\n",
    "    pdfWriter = PyPDF2.PdfFileWriter()\n",
    "\n",
    "    # Loop through all the pagenumbers for the first document\n",
    "    for pageNum in range(pdf1Reader.numPages):\n",
    "        pageObj = pdf1Reader.getPage(pageNum)\n",
    "        pdfWriter.addPage(pageObj)\n",
    "\n",
    "    # Loop through all the pagenumbers for the second document\n",
    "    for pageNum in range(pdf2Reader.numPages):\n",
    "        pageObj = pdf2Reader.getPage(pageNum)\n",
    "        pdfWriter.addPage(pageObj)\n",
    "\n",
    "    # Now that you have copied all the pages in both the documents, write them into the a new document\n",
    "    name = '-'.join(os.path.split(filename)[-1].split('-')[:2])\n",
    "    pdfOutputFile = open(name + '.pdf', 'wb')\n",
    "    pdfWriter.write(pdfOutputFile)\n",
    "\n",
    "    # Close all the files - Created as well as opened\n",
    "    pdfOutputFile.close()\n",
    "    pdf1File.close()\n",
    "    pdf2File.close()\n"
   ]
  },
  {
   "cell_type": "code",
   "execution_count": null,
   "metadata": {},
   "outputs": [],
   "source": []
  }
 ],
 "metadata": {
  "kernelspec": {
   "display_name": "Python 3",
   "language": "python",
   "name": "python3"
  },
  "language_info": {
   "codemirror_mode": {
    "name": "ipython",
    "version": 3
   },
   "file_extension": ".py",
   "mimetype": "text/x-python",
   "name": "python",
   "nbconvert_exporter": "python",
   "pygments_lexer": "ipython3",
   "version": "3.8.5"
  }
 },
 "nbformat": 4,
 "nbformat_minor": 4
}
